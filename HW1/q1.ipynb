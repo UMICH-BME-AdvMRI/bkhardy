{
 "cells": [
  {
   "cell_type": "markdown",
   "metadata": {},
   "source": [
    "# Problem 1: Spatial Encoding\n",
    "**Problem Statement:** Collection of 2D bSSFP image with following parameters\n",
    "- Spatial resolution: 1.2 x 1.2 x 3.0 mm<sup>3</sup> with 256 x 256 matrix size\n",
    "- Receiver bandwidth: 750 Hz/pixel\n",
    "- Strength: 1.5T\n",
    "- Maximum gradient amplitude: 25 mT/m (for one axis)\n",
    "- Maximum slew rate: 180 T/m/s"
   ]
  },
  {
   "cell_type": "markdown",
   "metadata": {},
   "source": [
    "## 1a) Calculate the amplitude and total duration of the slice-select gradient\n",
    "### Knowns:\n",
    "- Sinc-shaped RF pulse\n",
    "- Time bandwidth product: 2\n",
    "- Duration: 1 ms \n",
    "### Equations:\n",
    "- $TBW = \\tau_{RF}\\cdot BW$\n",
    "- $BW = \\sout{\\gamma} \\cdot G \\cdot \\Delta z$\n",
    "- $G = \\frac{TBW}{\\tau_{RF}\\cdot\\sout{\\gamma}\\cdot\\Delta z}$"
   ]
  },
  {
   "cell_type": "code",
   "execution_count": 1,
   "metadata": {},
   "outputs": [
    {
     "name": "stdout",
     "output_type": "stream",
     "text": [
      "Amplitude: 15.657 mT/m\n",
      "Total duration: 1.174 milliseconds\n"
     ]
    }
   ],
   "source": [
    "# Work for 1a amplitude\n",
    "Δz = 3e-3                               # meters\n",
    "tbw = 2                                 # unitless\n",
    "τ_rf = 1e-3                             # seconds\n",
    "gamma_bar = 42.58e3                     # Hz / mT for simplified calculations\n",
    "G_ss = tbw/(τ_rf * gamma_bar * Δz)      # mT/m\n",
    "println(\"Amplitude: \", round(G_ss; digits=3), \" mT/m\")\n",
    "\n",
    "# Work for 1a total duration\n",
    "slew_rate = 180                         # T/m/s\n",
    "τ_ss = τ_rf                             # seconds\n",
    "τ_ss_rise = 1e-3 * G_ss / slew_rate\n",
    "println(\"Total duration: \", round((τ_ss + 2*τ_ss_rise)*1e3; digits=3), \" milliseconds\")"
   ]
  },
  {
   "cell_type": "markdown",
   "metadata": {},
   "source": [
    "## 1b) Calculate the shortest possible duration of the phase enconding gradient\n",
    "### Knowns:\n",
    "- We normally do not change the length of the phase encoding gradient; thus, the shortest possible duration is limited by the outermost phase encoding line\n",
    "- $\\Delta y$ = 1.2 mm\n",
    "- Maxiumum gradient amplitude is 25 mT/m\n",
    "### Equations:\n",
    "- $\\Delta y = \\frac{1}{2k_{y,max}}$\n",
    "- $k_y = \\sout{\\gamma}G_{PE}\\tau_{PE}$\n",
    "- Thus, $\\tau_{PE} = \\frac{1}{2\\Delta y\\cdot\\sout{\\gamma}\\cdot G_{PE,max}}$"
   ]
  },
  {
   "cell_type": "code",
   "execution_count": 4,
   "metadata": {},
   "outputs": [
    {
     "name": "stdout",
     "output_type": "stream",
     "text": [
      "Total duration: 0.669 milliseconds\n"
     ]
    }
   ],
   "source": [
    "# Work for 1b\n",
    "Δy = 1.2e-3                                 # meters\n",
    "G_pe_max = 25                               # mT/m\n",
    "gamma_bar = 42.58e3                         # Hz/mT, repeating so each cell is independent of prior cells having been run\n",
    "slew_rate = 180                             # T/m/s\n",
    "τ_pe = 1/(2*Δy*gamma_bar*G_pe_max)*1000     # milliseconds\n",
    "τ_pe_rise = G_pe_max / slew_rate            # milliseconds\n",
    "println(\"Total duration: \", round(τ_pe + 2*τ_pe_rise; digits=3), \" milliseconds\")"
   ]
  },
  {
   "cell_type": "markdown",
   "metadata": {},
   "source": [
    "## 1c) Calculate the amplitude and total duration of the frequency encoding gradient\n",
    "### Knowns:\n",
    "- rBW per pixel: 750 Hz/pixel\n",
    "- Matrix size: 256 x 256\n",
    "- FOV: $1.2 \\text{ mm } \\cdot 256 = 307.2 \\text{ mm}$\n",
    "### Equations:\n",
    "- Total rBW $ = \\sout{\\gamma} \\cdot G_{read} \\cdot FOV$\n",
    "- rBW per pixel $ = \\frac{\\text{Total rBW}}{\\text{Matrix Size}}$\n",
    "- Thus, $G_{read}=\\frac{\\text{rBW per pixel} \\cdot \\text{Matrix Size}}{\\sout{\\gamma}\\cdot FOV}$ \n",
    "- $rBW = \\frac{1}{T_s}$"
   ]
  },
  {
   "cell_type": "code",
   "execution_count": 6,
   "metadata": {},
   "outputs": [
    {
     "name": "stdout",
     "output_type": "stream",
     "text": [
      "Amplitude: 14.678 mT/m\n",
      "Total duration: 1.496 milliseconds\n"
     ]
    }
   ],
   "source": [
    "# Work for 1c amplitude\n",
    "fov = 307.2e-3                              # meters\n",
    "rBW_pixel = 750                             # Hz/pixel \n",
    "matrix_size = 256                           # pixels\n",
    "gamma_bar = 42.58e3                         # Hz/mT\n",
    "G_read = (rBW_pixel*matrix_size)/(gamma_bar*fov)\n",
    "println(\"Amplitude: \", round(G_read; digits=3), \" mT/m\")\n",
    "\n",
    "# Work for 1c total duration\n",
    "slew_rate = 180                             # T/m/s\n",
    "T_s = 1/rBW_pixel * 1e3                     # milliseconds\n",
    "τ_read = T_s                                # milliseconds\n",
    "τ_read_rise = G_read / slew_rate            # millseconds\n",
    "println(\"Total duration: \", round(τ_read + 2*τ_read_rise; digits=3), \" milliseconds\")"
   ]
  },
  {
   "cell_type": "markdown",
   "metadata": {},
   "source": [
    "## 1d) Calculate the shortest possible TE and TR. Draw a sequence diagram and label the timings of all RF and gradient events."
   ]
  },
  {
   "cell_type": "markdown",
   "metadata": {},
   "source": [
    "## 1e) List three ways you could further decrease the TE and TR by maintaining the same spatial resolution and FoV\n",
    "1. Decrease the RF bandwidth but increase the amplitude of the slice-select gradient to maintain the 3.0 mm z resolution\n",
    "2. two\n",
    "3. three"
   ]
  },
  {
   "cell_type": "markdown",
   "metadata": {},
   "source": []
  }
 ],
 "metadata": {
  "kernelspec": {
   "display_name": "Julia 1.9.3",
   "language": "julia",
   "name": "julia-1.9"
  },
  "language_info": {
   "file_extension": ".jl",
   "mimetype": "application/julia",
   "name": "julia",
   "version": "1.9.3"
  },
  "orig_nbformat": 4
 },
 "nbformat": 4,
 "nbformat_minor": 2
}
